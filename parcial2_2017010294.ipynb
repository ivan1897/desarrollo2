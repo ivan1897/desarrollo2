{
 "cells": [
  {
   "cell_type": "code",
   "execution_count": 1,
   "metadata": {},
   "outputs": [],
   "source": [
    "import numpy as np\n",
    "import time"
   ]
  },
  {
   "cell_type": "markdown",
   "metadata": {},
   "source": [
    "### Se crean los datos de manera aleatoria con mediana de 500 y escala de 30 con 10 millones de datos"
   ]
  },
  {
   "cell_type": "code",
   "execution_count": 2,
   "metadata": {},
   "outputs": [
    {
     "data": {
      "text/plain": [
       "array([534.56539796, 455.14254618, 462.01143914, ..., 503.67538026,\n",
       "       465.23366374, 495.05779645])"
      ]
     },
     "execution_count": 2,
     "metadata": {},
     "output_type": "execute_result"
    }
   ],
   "source": [
    "estructura = np.random.normal(loc=500,scale=30,size=10000000)\n",
    "estructura "
   ]
  },
  {
   "cell_type": "markdown",
   "metadata": {},
   "source": [
    "Por medio de una funcion condional almacenamos en la variable sumatoria los datos que sean menores\n",
    "a 500,000 de nuestro array estructura..."
   ]
  },
  {
   "cell_type": "code",
   "execution_count": 12,
   "metadata": {},
   "outputs": [
    {
     "name": "stdout",
     "output_type": "stream",
     "text": [
      "La sumatoria de los datos menos a 500,000 es 5000109151.25867\n",
      "Duracion: 1.8465466499328613 segundos\n"
     ]
    }
   ],
   "source": [
    "start = time.time()\n",
    "sumatoria = estructura[estructura < 500000]\n",
    "print (\"La sumatoria de los datos menos a 500,000 es\", sum(sumatoria))\n",
    "print ('Duracion: {} segundos'.format(time.time() - start))"
   ]
  }
 ],
 "metadata": {
  "kernelspec": {
   "display_name": "Python 3",
   "language": "python",
   "name": "python3"
  },
  "language_info": {
   "codemirror_mode": {
    "name": "ipython",
    "version": 3
   },
   "file_extension": ".py",
   "mimetype": "text/x-python",
   "name": "python",
   "nbconvert_exporter": "python",
   "pygments_lexer": "ipython3",
   "version": "3.8.3"
  }
 },
 "nbformat": 4,
 "nbformat_minor": 4
}
